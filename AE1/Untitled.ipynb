{
 "cells": [
  {
   "cell_type": "markdown",
   "id": "41898a04-046b-46a1-99ff-bc204db13e5d",
   "metadata": {},
   "source": [
    "# Introduction(NEW MAIN)-->"
   ]
  },
  {
   "cell_type": "code",
   "execution_count": 35,
   "id": "443ef467-bb4a-4be3-bf75-682e3713e82f",
   "metadata": {},
   "outputs": [
    {
     "name": "stderr",
     "output_type": "stream",
     "text": [
      "Downloading files: 100%|██████████████████████| 75/75 [00:09<00:00,  8.17file/s]"
     ]
    },
    {
     "name": "stdout",
     "output_type": "stream",
     "text": [
      "Skipping invalid URL:type\n"
     ]
    },
    {
     "name": "stderr",
     "output_type": "stream",
     "text": [
      "\n"
     ]
    }
   ],
   "source": [
    "import requests \n",
    "import os\n",
    "from tqdm import tqdm # just for downloading progress bar\n",
    "\n",
    "#URL of the MET Office historic station data page\n",
    "url = 'https://www.metoffice.gov.uk/research/climate/maps-and-data/historic-station-data'\n",
    "\n",
    "#Directory to save downloaded files\n",
    "output_dir= 'MET_Office_Data'\n",
    "\n",
    "#Create the output directory if it doesn't exist yet\n",
    "os.makedirs(output_dir,exist_ok=True)\n",
    "\n",
    "#Send a GET request to the URL\n",
    "response= requests.get(url)\n",
    "\n",
    "#Check if the request was successful (status code 200)\n",
    "if response.status_code==200:\n",
    "    #Extract text data file URLs from the response content\n",
    "    file_urls= [line.split('\"')[1] for line in response.text.splitlines() if '.txt' in line]\n",
    "                \n",
    "    #After ggetting all urls of the .txt files we download them            \n",
    "    for file_url in tqdm(file_urls,desc=\"Downloading files\", unit=\"file\"):\n",
    "        #Check if the URL has a valid scheme\n",
    "         if file_url.startswith(('http://','https://')):\n",
    "        #Extract filename from the URL\n",
    "            filename = file_url.split('/')[-1]\n",
    "        #Download the file\n",
    "            with open(os.path.join(output_dir,filename),'wb') as f:\n",
    "                f.write(requests.get(file_url).content)\n",
    "    else:\n",
    "        print(f\"Skipping invalid URL:{file_url}\")\n",
    "\n",
    "else:\n",
    "    print(\"Failed to retrieve data.Status code:\",response.status_code)\n"
   ]
  },
  {
   "cell_type": "code",
   "execution_count": 37,
   "id": "1722c487-971d-4c01-b65c-bd02cb707829",
   "metadata": {},
   "outputs": [
    {
     "name": "stdout",
     "output_type": "stream",
     "text": [
      "Cleaning completed.\n"
     ]
    }
   ],
   "source": [
    "import os\n",
    "\n",
    "#Directory containing the text files\n",
    "input_dir = 'MET_Office_Data'\n",
    "\n",
    "#Directory to save cleaned files\n",
    "output_dir= 'NoHeader_MET_Office_Data'\n",
    "\n",
    "#Create the output directory if it doesn't exist\n",
    "os.makedirs(output_dir,exist_ok= True)\n",
    "\n",
    "#Loop through each file in the input directory\n",
    "for filename in os.listdir(input_dir):\n",
    "    #check if the file is a text file\n",
    "    if filename.endswith('.txt'):\n",
    "        #Read the contets of the file \n",
    "        with open(os.path.join(input_dir,filename), 'r') as file:\n",
    "            lines = file.readlines()\n",
    "\n",
    "       #Determine the number of header lines\n",
    "        header_length = 5 if 'sunshine data' in lines[4].lower() else 6\n",
    "\n",
    "        #Remove header\n",
    "        data = lines[header_length:]\n",
    "\n",
    "        #Write cleaned data to a new file\n",
    "        with open(os.path.join(output_dir,filename),'w') as file:\n",
    "            file.writelines(data)\n",
    "\n",
    "print(\"Cleaning completed.\")"
   ]
  },
  {
   "cell_type": "code",
   "execution_count": 38,
   "id": "e68ed373-2f0a-4ca4-8f18-f7ac7eb5783f",
   "metadata": {},
   "outputs": [
    {
     "name": "stdout",
     "output_type": "stream",
     "text": [
      "Cleaning completed\n"
     ]
    }
   ],
   "source": [
    "import os\n",
    "\n",
    "#directory containing the cleaned text files\n",
    "input_dir = 'NoHeader_MET_Office_Data'\n",
    "\n",
    "for filename in os.listdir(input_dir): #Lopping through each file\n",
    "    #Chech if the file is a text file\n",
    "    if filename.endswith('.txt'):\n",
    "        #Read the contents of the file\n",
    "        with open(os.path.join(input_dir,filename),'r')as file:\n",
    "            lines= file.readlines()\n",
    "        #Remove the second row(header)\n",
    "        cleaned_lines = [lines[0]] #Keep the first row\n",
    "        cleaned_lines += lines[2:] #Skip the second row\n",
    "\n",
    "        #Write cleaned data back to the same file\n",
    "        with open(os.path.join(input_dir,filename),'w') as file:\n",
    "            file.writelines(cleaned_lines)\n",
    "print(\"Cleaning completed\")"
   ]
  },
  {
   "cell_type": "code",
   "execution_count": 39,
   "id": "73a34029-dc4e-4356-b158-2451a05b6fd7",
   "metadata": {},
   "outputs": [],
   "source": [
    "'''\n",
    "Data Collection, Pre-processing and Handling (30 marks): Download the\n",
    "MET historic data from all 36 weather stations in the UK. Select a monitoring\n",
    "time period when your data from all your selected weather stations have been\n",
    "consistently recorded. Clean the data from any special symbols, e.g. ‘*’ or ‘#’.\n",
    "Visualise and handle missing data, for example by replacing any missing values\n",
    "with a zero or the mean values from all stations for that year.\n",
    "'''\n",
    "#Assign directory with tilde(~)\n",
    "import os\n",
    "import pandas as pd\n",
    "\n",
    "def convert_txt_to_csv(input_folder, output_folder):\n",
    "    #Make syre the output folder exists\n",
    "    if not os.path.exists(output_folder):\n",
    "        os.makedirs(output_folder)\n",
    "    #Loop through all text files in the input folder\n",
    "    for filename in os.listdir(input_folder):\n",
    "        if filename.endswith(\".txt\"):\n",
    "            input_filepath= os.path.join(input_folder,filename)\n",
    "            output_filepath = os.path.join(output_folder,os.path.splitext(filename)[0]+\".csv\")\n",
    "\n",
    "            #Read the fixed-width format file\n",
    "            df= pd.read_fwf(input_filepath)\n",
    "            #Save the DataFrame to a CSV file\n",
    "            df.to_csv(output_filepath, index=False)\n",
    "\n",
    "#Usage of convert_txt_to_csv()\n",
    "input_folder = 'NoHeader_MET_Office_Data'\n",
    "output_folder = 'DataAE1.CSV'\n",
    "convert_txt_to_csv(input_folder,output_folder)"
   ]
  },
  {
   "cell_type": "code",
   "execution_count": 40,
   "id": "bc2c932c-1fda-4299-ae7b-65149b6116f8",
   "metadata": {},
   "outputs": [],
   "source": [
    "import pandas as pd\n",
    "\n",
    "#Directory containing CSV files\n",
    "input_directory = 'DataAE1.csv'\n",
    "#Directory to save modified CSV files\n",
    "output_directory = 'DataAE1csv.cleaned'\n",
    "\n",
    "#Create the output directory if it doesn't exist\n",
    "os.makedirs(output_directory,exist_ok= True)\n",
    "\n",
    "#Loop through all CSV files in the input directory\n",
    "for filename in os.listdir(input_directory):\n",
    "    if filename.endswith('.csv'):\n",
    "        input_filepath=os.path.join(input_directory,filename)\n",
    "        #Read CSV file into DataFrame\n",
    "        df=pd.read_csv(input_filepath)\n",
    "        #Replace '---' with 0\n",
    "        df.replace('---',0,inplace=True)\n",
    "        #Save modified DataFrame to a new CSV file in the output directory\n",
    "        output_filepath= os.path.join(output_directory,f'cleaned_{filename}')\n",
    "        df.to_csv(output_filepath,index=False)\n"
   ]
  },
  {
   "cell_type": "code",
   "execution_count": null,
   "id": "23a9c0b7-74f7-4ba6-a390-67bb0db83f31",
   "metadata": {},
   "outputs": [],
   "source": []
  }
 ],
 "metadata": {
  "kernelspec": {
   "display_name": "Python 3 (ipykernel)",
   "language": "python",
   "name": "python3"
  },
  "language_info": {
   "codemirror_mode": {
    "name": "ipython",
    "version": 3
   },
   "file_extension": ".py",
   "mimetype": "text/x-python",
   "name": "python",
   "nbconvert_exporter": "python",
   "pygments_lexer": "ipython3",
   "version": "3.11.5"
  }
 },
 "nbformat": 4,
 "nbformat_minor": 5
}
