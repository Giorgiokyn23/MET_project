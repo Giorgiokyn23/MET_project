{
 "cells": [
  {
   "cell_type": "markdown",
   "metadata": {},
   "source": [
    "# Week 3 - Data Analytics\n",
    "## Activity: Lab Session 3\n",
    "\n",
    "__Name__: _Your full name_\n",
    "\n",
    "__Date__: _dd/mm/yyyy_"
   ]
  },
  {
   "cell_type": "markdown",
   "metadata": {},
   "source": [
    "## Background\n",
    "\n",
    "### Analysis\n",
    "\n",
    "In this assignment, we are going to analyse the NetFlix dataset by answering a number of questions about it. \n",
    "\n",
    "### Interpretation\n",
    "\n",
    "__You can try your own questions: what would _you_ like to learn from the data?__ \n",
    "\n",
    "Share your results with the class."
   ]
  },
  {
   "cell_type": "code",
   "execution_count": 2,
   "metadata": {},
   "outputs": [
    {
     "name": "stdout",
     "output_type": "stream",
     "text": [
      "00: id\n",
      "01: type\n",
      "02: title\n",
      "03: director\n",
      "04: cast\n",
      "05: country\n",
      "06: added\n",
      "07: released\n",
      "08: rating\n",
      "09: duration\n",
      "10: categories\n",
      "11: description\n",
      "- 12 columns, 6234 rows\n"
     ]
    }
   ],
   "source": [
    "import pandas as pd\n",
    "# import the library Pandas\n",
    "\n",
    "# read the dataset file.\n",
    "shows = pd.read_csv(\"shows.csv\")\n",
    "\n",
    "# use for loop with enumerate \n",
    "for idx, column in enumerate(shows.columns):\n",
    "    # display a counter and next the corresponding columns labels\n",
    "    print(f\"{idx:02d}: {column}\")\n",
    "    \n",
    "# Display a message with the size of the columns and the size of the rows of the dataset.\n",
    "print(f\"- {len(shows.columns)} columns, {len(shows.index)} rows\")"
   ]
  },
  {
   "cell_type": "markdown",
   "metadata": {},
   "source": [
    "## Exercise 1: Sample queries\n",
    "\n",
    "__1A.__  What is the average movie duration?\n",
    "\n",
    "\n",
    "__1B.__  What are the top-$k$ longest running (in terms of number of seasons) TV shows?\n",
    "\n",
    "__N/B:__  Each _TV show and _movie_ is assigned a rating. For example, a rating of `TV-Y` indicates a TV show for _all children_; `G` a movie for _general audiences_; and so on. More information can be found on the Web (e.g. [here](https://www.spectrum.net/support/tv/tv-and-movie-ratings-descriptions/)). Try:\n",
    "\n",
    "```\n",
    ">>> shows['rating'].unique()\n",
    "```\n",
    "\n",
    "to identify the set of possible ratings in the dataset.\n",
    "\n",
    "\n",
    "\n",
    "__1C.__  Perform an analysis of _TV shows and _movies_ based on their rating. For example, what is the target audience of the NetFlix platform?\n",
    "\n",
    "__NB:__  A _TV show_ or _movie_ is produced in one of more countries. For example, the value of column `country` in the first row of the dataset is `'United States, India, South Korea, China'`, indicating an international collaboration of four countries.\n",
    "\n",
    "\n",
    "\n",
    "__1D.__  Perform an analysis of international collaborations (in terms of number of countries) in _TV programs_ and _movies_. How did they evolve over the years?"
   ]
  },
  {
   "cell_type": "code",
   "execution_count": null,
   "metadata": {},
   "outputs": [],
   "source": []
  },
  {
   "cell_type": "markdown",
   "metadata": {},
   "source": [
    "## Appendix I: Function _`explode()`_ and dictionaries in Python\n",
    "\n",
    "Consider the following example data frame, where column values are not __atomic__."
   ]
  },
  {
   "cell_type": "code",
   "execution_count": 5,
   "metadata": {},
   "outputs": [
    {
     "data": {
      "text/html": [
       "<div>\n",
       "<style scoped>\n",
       "    .dataframe tbody tr th:only-of-type {\n",
       "        vertical-align: middle;\n",
       "    }\n",
       "\n",
       "    .dataframe tbody tr th {\n",
       "        vertical-align: top;\n",
       "    }\n",
       "\n",
       "    .dataframe thead th {\n",
       "        text-align: right;\n",
       "    }\n",
       "</style>\n",
       "<table border=\"1\" class=\"dataframe\">\n",
       "  <thead>\n",
       "    <tr style=\"text-align: right;\">\n",
       "      <th></th>\n",
       "      <th>id</th>\n",
       "      <th>director</th>\n",
       "      <th>cast</th>\n",
       "    </tr>\n",
       "  </thead>\n",
       "  <tbody>\n",
       "    <tr>\n",
       "      <th>0</th>\n",
       "      <td>1</td>\n",
       "      <td>Mary, John</td>\n",
       "      <td>A, B</td>\n",
       "    </tr>\n",
       "    <tr>\n",
       "      <th>1</th>\n",
       "      <td>2</td>\n",
       "      <td>None</td>\n",
       "      <td>A, B, C, D</td>\n",
       "    </tr>\n",
       "    <tr>\n",
       "      <th>2</th>\n",
       "      <td>3</td>\n",
       "      <td>Mark, Mary</td>\n",
       "      <td>A, B, C</td>\n",
       "    </tr>\n",
       "  </tbody>\n",
       "</table>\n",
       "</div>"
      ],
      "text/plain": [
       "   id    director        cast\n",
       "0   1  Mary, John        A, B\n",
       "1   2        None  A, B, C, D\n",
       "2   3  Mark, Mary     A, B, C"
      ]
     },
     "execution_count": 5,
     "metadata": {},
     "output_type": "execute_result"
    }
   ],
   "source": [
    "import pandas as pd\n",
    "# import the library Pandas\n",
    "\n",
    "# Declare and define the dataframe disctionary.\n",
    "data = {\n",
    "    \"id\": [ 1,  2, 3],\n",
    "    \"director\": ['Mary, John', None, 'Mark, Mary'],\n",
    "    \"cast\": ['A, B', 'A, B, C, D', 'A, B, C']\n",
    "}\n",
    "\n",
    "# assign the dataframe to df\n",
    "df = pd.DataFrame(data)\n",
    "\n",
    "# echo out the dataframe on the terminal.\n",
    "df"
   ]
  },
  {
   "cell_type": "code",
   "execution_count": 7,
   "metadata": {},
   "outputs": [
    {
     "data": {
      "text/plain": [
       "cast\n",
       "A    3\n",
       "B    3\n",
       "C    2\n",
       "D    1\n",
       "Name: id, dtype: int64"
      ]
     },
     "execution_count": 7,
     "metadata": {},
     "output_type": "execute_result"
    }
   ],
   "source": [
    "def _toList(s):\n",
    "    \"\"\"\n",
    "    Splits a comma-separated string and return \n",
    "    it as a list of strings\n",
    "    \"\"\"\n",
    "    if not s:\n",
    "        return []\n",
    "    \n",
    "    # separate the ',' from the rest of the data\n",
    "    lst = s.split(',')\n",
    "    lst = [x.strip() for x in lst]\n",
    "    \n",
    "    return lst\n",
    "\n",
    "\n",
    "# Convert string to list of strings by using function map()\n",
    "df.cast = df.cast.map(_toList)\n",
    "\n",
    "# Transform each element of a list to a row\n",
    "df = df.explode('cast', ignore_index=True)\n",
    "\n",
    "\n",
    "# Call function groupby() to find out the number counts of the casts.\n",
    "# Echo out the returned data.\n",
    "df.groupby('cast').id.count()\n"
   ]
  },
  {
   "cell_type": "code",
   "execution_count": null,
   "metadata": {},
   "outputs": [],
   "source": []
  }
 ],
 "metadata": {
  "kernelspec": {
   "display_name": "Python 3 (ipykernel)",
   "language": "python",
   "name": "python3"
  },
  "language_info": {
   "codemirror_mode": {
    "name": "ipython",
    "version": 3
   },
   "file_extension": ".py",
   "mimetype": "text/x-python",
   "name": "python",
   "nbconvert_exporter": "python",
   "pygments_lexer": "ipython3",
   "version": "3.11.4"
  }
 },
 "nbformat": 4,
 "nbformat_minor": 2
}
